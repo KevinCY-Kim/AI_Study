{
  "nbformat": 4,
  "nbformat_minor": 0,
  "metadata": {
    "colab": {
      "provenance": [],
      "authorship_tag": "ABX9TyMTv4XvNjUPYR0uWrT1pveQ",
      "include_colab_link": true
    },
    "kernelspec": {
      "name": "python3",
      "display_name": "Python 3"
    },
    "language_info": {
      "name": "python"
    }
  },
  "cells": [
    {
      "cell_type": "markdown",
      "metadata": {
        "id": "view-in-github",
        "colab_type": "text"
      },
      "source": [
        "<a href=\"https://colab.research.google.com/github/KevinCY-Kim/AI_Study/blob/main/CLI%EB%A5%BC_%EC%82%AC%EC%9A%A9%ED%95%9C_%EC%B1%97%EB%B4%87.ipynb\" target=\"_parent\"><img src=\"https://colab.research.google.com/assets/colab-badge.svg\" alt=\"Open In Colab\"/></a>"
      ]
    },
    {
      "cell_type": "code",
      "execution_count": null,
      "metadata": {
        "colab": {
          "base_uri": "https://localhost:8080/"
        },
        "id": "Psu1SFQLzPrv",
        "outputId": "eeba61d2-719f-427a-87eb-b773865afc81"
      },
      "outputs": [
        {
          "output_type": "stream",
          "name": "stdout",
          "text": [
            "메시지: CLI를 사용한 챗봇 실습인데 넌 어떤 기능이있는거지?\n",
            "챗봇 :좋습니다 — CLI 기반 챗봇 실습에 도움이 될 수 있어요. 먼저 제가 어떤 일을 할 수 있는지(그리고 못하는지)를 간단히 정리한 뒤, 바로 쓸 수 있는 최소한의 예제 코드와 다음 단계 제안을 드릴게요.\n",
            "\n",
            "무엇을 도와줄 수 있나 (주요 기능)\n",
            "- 자연어 대화: 질문/응답, 소소한 대화, 요약, 번역(한↔영 등), 문장 다듬기.\n",
            "- 코드 생성·수정·설명: CLI용 챗봇 코드(파이썬/Node.js/Go 등), 스크립트, 유닛 테스트 작성.\n",
            "- CLI 구현 도움: readline, prompt-toolkit, curses, 터미널 입출력 패턴, 명령 파싱(argparse/commander) 설계.\n",
            "- 대화 상태·메모리 설계: 세션 내 히스토리 관리, 간단한 슬롯(slot) 추출, 의도(intent) 분류 설계.\n",
            "- 외부 API 연동 가이드: OpenAI/Local LLM/REST API 호출 예제(키 보관/환경변수 사용 방식 포함).\n",
            "- 디버깅·테스트: 로컬 실행 시 문제 원인 분석(코드·에러 메시지 제공 필요).\n",
            "- 설계 조언: 멀티턴 대화, 에러 처리, 입력 유효성 검사, 로깅, 테스트 시나리오 작성.\n",
            "\n",
            "제약(제가 직접 할 수 없는 것)\n",
            "- 로컬에서 직접 명령을 실행하거나 파일을 읽고 쓸 수는 없음(내용을 붙여주면 분석·수정해줌).\n",
            "- 네트워크 요청을 직접 보내거나 외부 API 키를 다루지는 못함(연동 코드·절차는 만들어 줌).\n",
            "- 세션 밖(다음 대화)에 자동으로 상태를 보존하지 않음 — 원하면 파일/DB 저장 코드를 제공.\n",
            "\n",
            "간단한 시작 예제(파이썬, 규칙 기반 CLI 챗봇)\n",
            "- 아래 코드를 복사해 실행하면 간단한 REPL 챗봇이 동작합니다. 실제 응답 로직은 respond()를 확장하면 됩니다.\n",
            "\n",
            "```python\n",
            "# cli_chatbot.py\n",
            "import readline  # 리눅스/맥(윈도우는 pyreadline 설치 필요)\n",
            "import sys\n",
            "\n",
            "history = []\n",
            "\n",
            "def respond(user):\n",
            "    # 간단한 규칙 예시\n",
            "    u = user.lower().strip()\n",
            "    if u in (\"exit\", \"quit\"):\n",
            "        return \"exit\"\n",
            "    if \"안녕\" in u or \"hello\" in u:\n",
            "        return \"안녕하세요! 무엇을 도와드릴까요?\"\n",
            "    if \"요약\" in u:\n",
            "        return \"요약할 텍스트를 입력해 주세요.\"\n",
            "    # fallback\n",
            "    return f\"입력받음: {user}\"\n",
            "\n",
            "def main():\n",
            "    print(\"간단한 CLI 챗봇 (종료하려면 'exit' 입력)\")\n",
            "    while True:\n",
            "        try:\n",
            "            user = input(\"> \")\n",
            "        except (EOFError, KeyboardInterrupt):\n",
            "            print(\"\\n종료\")\n",
            "            break\n",
            "        if not user.strip():\n",
            "            continue\n",
            "        history.append({\"role\": \"user\", \"text\": user})\n",
            "        reply = respond(user)\n",
            "        if reply == \"exit\":\n",
            "            print(\"챗봇을 종료합니다.\")\n",
            "            break\n",
            "        history.append({\"role\": \"bot\", \"text\": reply})\n",
            "        print(reply)\n",
            "\n",
            "if __name__ == \"__main__\":\n",
            "    main()\n",
            "```\n",
            "\n",
            "다음 단계 제안 (원하시는 것을 골라 알려주세요)\n",
            "- 이 규칙 기반 챗봇을 LLM(예: OpenAI) 호출로 바꾸는 코드 제공\n",
            "- 자연어 이해(의도/슬롯) 추가 예제 (간단한 룰 또는 regex, 혹은 spaCy 사용)\n",
            "- 대화 로그 파일/SQLite에 저장하는 방법\n",
            "- 터미널 UI 개선: prompt-toolkit / rich 사용 예제\n",
            "- Node.js나 Go 버전 코드 원하면 제공\n",
            "\n",
            "어떤 환경(OS, 프로그래밍 언어 선호)에서 실습 중이신가요? 그리고 이번 실습 목표(예: LLM 연동, 오프라인 규칙형, 슬롯 추출 등)를 알려주시면 바로 맞춤 코드/설명 드릴게요.\n"
          ]
        }
      ],
      "source": [
        "from openai import OpenAI\n",
        "from google.colab import userdata\n",
        "import os\n",
        "\n",
        "# os.environ[\"OPENAI_API_KEY\"] = \"NA\"\n",
        "client = OpenAI(api_key=userdata.get(\"OPENAI_API_KEY\"))\n",
        "\n",
        "def chatbot_response(user_message: str):\n",
        "    # Assuming chat completions are used for conversational responses\n",
        "    result = client.chat.completions.create(\n",
        "        model=\"gpt-5-mini\",\n",
        "        messages=[\n",
        "            {\"role\": \"user\", \"content\": user_message},\n",
        "        ]\n",
        "    )\n",
        "    # Accessing the response text based on the structure of chat completions\n",
        "    return result.choices[0].message.content\n",
        "\n",
        "if __name__ == \"__main__\":\n",
        "\n",
        "    while True:\n",
        "        user_message = input(\"메시지: \")\n",
        "\n",
        "        if user_message.lower() == \"exit\":\n",
        "            print(\"대화를 종료합니다.\")\n",
        "            break\n",
        "\n",
        "        result = chatbot_response(user_message)\n",
        "        print(\"챗봇 :\" + result)"
      ]
    },
    {
      "cell_type": "code",
      "metadata": {
        "colab": {
          "base_uri": "https://localhost:8080/"
        },
        "id": "2317cb59",
        "outputId": "e7e78365-33f4-4607-b709-2f98861b697a"
      },
      "source": [
        "!pip install openai"
      ],
      "execution_count": null,
      "outputs": [
        {
          "output_type": "stream",
          "name": "stdout",
          "text": [
            "Requirement already satisfied: openai in /usr/local/lib/python3.12/dist-packages (1.108.0)\n",
            "Requirement already satisfied: anyio<5,>=3.5.0 in /usr/local/lib/python3.12/dist-packages (from openai) (4.10.0)\n",
            "Requirement already satisfied: distro<2,>=1.7.0 in /usr/local/lib/python3.12/dist-packages (from openai) (1.9.0)\n",
            "Requirement already satisfied: httpx<1,>=0.23.0 in /usr/local/lib/python3.12/dist-packages (from openai) (0.28.1)\n",
            "Requirement already satisfied: jiter<1,>=0.4.0 in /usr/local/lib/python3.12/dist-packages (from openai) (0.11.0)\n",
            "Requirement already satisfied: pydantic<3,>=1.9.0 in /usr/local/lib/python3.12/dist-packages (from openai) (2.11.9)\n",
            "Requirement already satisfied: sniffio in /usr/local/lib/python3.12/dist-packages (from openai) (1.3.1)\n",
            "Requirement already satisfied: tqdm>4 in /usr/local/lib/python3.12/dist-packages (from openai) (4.67.1)\n",
            "Requirement already satisfied: typing-extensions<5,>=4.11 in /usr/local/lib/python3.12/dist-packages (from openai) (4.15.0)\n",
            "Requirement already satisfied: idna>=2.8 in /usr/local/lib/python3.12/dist-packages (from anyio<5,>=3.5.0->openai) (3.10)\n",
            "Requirement already satisfied: certifi in /usr/local/lib/python3.12/dist-packages (from httpx<1,>=0.23.0->openai) (2025.8.3)\n",
            "Requirement already satisfied: httpcore==1.* in /usr/local/lib/python3.12/dist-packages (from httpx<1,>=0.23.0->openai) (1.0.9)\n",
            "Requirement already satisfied: h11>=0.16 in /usr/local/lib/python3.12/dist-packages (from httpcore==1.*->httpx<1,>=0.23.0->openai) (0.16.0)\n",
            "Requirement already satisfied: annotated-types>=0.6.0 in /usr/local/lib/python3.12/dist-packages (from pydantic<3,>=1.9.0->openai) (0.7.0)\n",
            "Requirement already satisfied: pydantic-core==2.33.2 in /usr/local/lib/python3.12/dist-packages (from pydantic<3,>=1.9.0->openai) (2.33.2)\n",
            "Requirement already satisfied: typing-inspection>=0.4.0 in /usr/local/lib/python3.12/dist-packages (from pydantic<3,>=1.9.0->openai) (0.4.1)\n"
          ]
        }
      ]
    }
  ]
}