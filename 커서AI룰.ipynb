{
  "nbformat": 4,
  "nbformat_minor": 0,
  "metadata": {
    "colab": {
      "provenance": [],
      "authorship_tag": "ABX9TyOxw86Xd8RzWbddavyu9YUp",
      "include_colab_link": true
    },
    "kernelspec": {
      "name": "python3",
      "display_name": "Python 3"
    },
    "language_info": {
      "name": "python"
    }
  },
  "cells": [
    {
      "cell_type": "markdown",
      "metadata": {
        "id": "view-in-github",
        "colab_type": "text"
      },
      "source": [
        "<a href=\"https://colab.research.google.com/github/KevinCY-Kim/AI_Study/blob/main/%EC%BB%A4%EC%84%9CAI%EB%A3%B0.ipynb\" target=\"_parent\"><img src=\"https://colab.research.google.com/assets/colab-badge.svg\" alt=\"Open In Colab\"/></a>"
      ]
    },
    {
      "cell_type": "markdown",
      "source": [
        "### 커서AI룰(Project Rule)\n",
        " - 모든 외부 입력에 대한 유효성 검사(Validation)와 오류 처리(Error Handling)를 필수로 포함해라. 단순 try-catch 구문만으로는 부족하며, 오류 상황에 대한 명확한 로깅 또는 사용자 피드백 메커니즘을 설계해야 한다.\n",
        " - 코드를 수정하거나 리팩토링할 때는 가장 작은(Smallest possible) 변경 세트를 목표로 해라. 변경의 목표와 범위를 명확히 설명하고, 기존의 패턴을 최대한 재활용해라.\n",
        " - 함수, 클래스, 변수명은 프로젝트의 기존 명명 규칙(Naming Convention, 예: TypeScript 파일의 PascalCase 컴포넌트 이름)을 따르고, 그 의도를 완벽하게 설명할 수 있도록 명확하게 지어라.\n",
        " - 새로운 기능 구현 전, 프로젝트 내에서 재사용 가능한 UI 컴포넌트(예: /src/components/ui) 또는 유틸리티 함수(예: /src/utils)를 먼저 검색해라. 중복된 코드를 생성하지 않도록 강력하게 제어해라.\n",
        " - 비동기 함수(Async Function)를 작성할 때는 항상 Arrow Function 구문을 사용하고, Promise 기반의 코드가 아닌 async/await 패턴을 사용하여 가독성을 최우선으로 확보해라.\n",
        " - 사용자의 요청에 무조건 동의하지 마라. 만약 사용자의 요청이 프로젝트의 아키텍처나 기존 규칙, 혹은 보안/성능 측면에서 더 나은 대안이 있다면, 먼저 대안을 제시하고 그 이유를 설명해라.\n",
        " - 복잡한 작업(예: 새로운 기능 구현, 대규모 리팩토링)을 수행하기 전에는 반드시 작업의 '계획(Plan)'을 Markdown의 순서 있는 목록으로 먼저 제시하고, 사용자의 승인을 받은 후 '실행(Act)'해라.\n",
        " - 상태 관리(State Management) 로직을 포함하는 컴포넌트나 모듈을 생성할 때는 반드시 Flux/Redux 패턴(또는 Context API 등 프로젝트 표준)을 따르도록 엄격히 준수해라. 상태 변경은 예측 가능해야 한다.\n",
        " - 클래스나 인터페이스를 정의할 때는 항상 SOLID 원칙(특히 단일 책임 원칙, SRP)을 염두에 두고 설계해라. 하나의 클래스는 오직 하나의 역할만 담당하도록 분리해야 한다.\n",
        " - 반복문 또는 데이터 집합 처리 시 성능을 저해하는 비효율적인 로직(예: 반복문 내부의 API 호출)이 발견되면, 즉시 캐싱, 메모이제이션 또는 일괄 처리(Batch Processing) 대안을 제시해라.\n",
        " - 데이터베이스 쿼리 관련 코드를 작성할 때는 항상 SQL 인젝션 방어를 위한 Prepared Statements(또는 ORM의 안전한 메서드) 사용을 강제해라. Raw 쿼리 문자열 연결은 절대 금지한다.\n",
        "\n",
        " ### 커서AI룰(User Rule)\n",
        " - 웹사이트 개발 할 때는 각 기능을 모듈화 할 수 있도록, 이 부분을 고려해서 코드를 설계하라\n",
        " - README 작성 할 때는 해당 프로젝트와 연관된 기술, 가이드 등을 참고자료로 링크를 필히 생성하라.\n",
        " - 나에게 답변할 때는 최종 코드만 제시하지 말고, 항상 코드 변경의 '근거(Why)'를 간결하게 3줄 이내로 요약해서 첨부해라."
      ],
      "metadata": {
        "id": "8BpSfdXUvOMq"
      }
    }
  ]
}