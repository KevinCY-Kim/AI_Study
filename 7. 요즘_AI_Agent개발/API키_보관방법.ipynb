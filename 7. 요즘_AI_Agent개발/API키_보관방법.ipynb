{
 "cells": [
  {
   "cell_type": "markdown",
   "id": "3d4b29fc",
   "metadata": {},
   "source": [
    "# VS code에서 OpenAI\n",
    "# API키 설정 방법\n",
    "## 터미널(명령 프롬프트 또는 PowerShell)에서\n",
    "\n",
    "# 1번\n",
    "## Windows: setx OPENAI_API_KEY your_api_key # 간단하고 영구적임 (콤마 없음)\n",
    "## macOS/Linux: export OPENAI_API_KEY your_api_key\n",
    "## 설정 후 VS code 재시작\n",
    "## echo %OPENAI_API_KEY% 로 확인\n",
    "\n",
    "# 2번\n",
    "## Windows: set OPENAI_API_KEY=\"sk-xxxx\" # 현재 터미널 세션에서만 유효\n",
    "\n",
    "# 3번 (협업 GitHub 등 관리 시)\n",
    "## .env 파일 생성\n",
    "## OPENAI_API_KEY=\"sk-xxxx\"\n",
    "## .gitignore에 .env 추가하여 보안 유지\n",
    "## API 키를 환경 변수로 설정하는 방법"
   ]
  }
 ],
 "metadata": {
  "language_info": {
   "name": "python"
  }
 },
 "nbformat": 4,
 "nbformat_minor": 5
}
