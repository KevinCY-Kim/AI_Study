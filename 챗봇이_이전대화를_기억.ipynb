{
  "nbformat": 4,
  "nbformat_minor": 0,
  "metadata": {
    "colab": {
      "provenance": [],
      "authorship_tag": "ABX9TyMTYGbSWjz7XCh40hKJNj08",
      "include_colab_link": true
    },
    "kernelspec": {
      "name": "python3",
      "display_name": "Python 3"
    },
    "language_info": {
      "name": "python"
    }
  },
  "cells": [
    {
      "cell_type": "markdown",
      "metadata": {
        "id": "view-in-github",
        "colab_type": "text"
      },
      "source": [
        "<a href=\"https://colab.research.google.com/github/KevinCY-Kim/AI_Study/blob/main/%EC%B1%97%EB%B4%87%EC%9D%B4_%EC%9D%B4%EC%A0%84%EB%8C%80%ED%99%94%EB%A5%BC_%EA%B8%B0%EC%96%B5.ipynb\" target=\"_parent\"><img src=\"https://colab.research.google.com/assets/colab-badge.svg\" alt=\"Open In Colab\"/></a>"
      ]
    },
    {
      "cell_type": "code",
      "execution_count": null,
      "metadata": {
        "colab": {
          "base_uri": "https://localhost:8080/"
        },
        "id": "vAn_ako_-bQR",
        "outputId": "9d483ddb-426c-4601-ba98-4ff1ec8d6300"
      },
      "outputs": [
        {
          "output_type": "stream",
          "name": "stdout",
          "text": [
            "메세지: 형왔어 이제 너는 나와의 대화를 기억 할 수 있지?\n",
            "어, 반가워! 지금 상황 정리해줄게:\n",
            "\n",
            "- 이 채팅 세션 안에서는 앞서 한 말들을 계속 참고해서 대화할 수 있어.  \n",
            "- 하지만 세션이 끝나면(페이지 닫기·새로고침·시간 경과 등) 기본적으로 그 대화 내용은 사라져서 다음에 바로 이어서 기억하진 못해.  \n",
            "- 만약 플랫폼(앱)에서 “기억(Memory)” 기능이 따로 활성화돼 있으면 이름·선호·진행 중인 프로젝트 같은 정보를 장기적으로 저장하고 다음 대화에 활용할 수 있어. 그 기능이 켜져 있는지 확인하려면 설정을 봐야 해.  \n",
            "- 민감한 정보(비밀번호·신용카드 등)는 저장하지 않는 게 안전해.\n",
            "\n",
            "지금부터 내가 기억해두길 원하는 게 있으면 말해줘 — 예: 이름, 취향, 관심사, 진행 중인 작업 등. 기억해두길 원하지 않는 건 언제든지 지워달라고 해. 무엇부터 기억할까?\n"
          ]
        }
      ],
      "source": [
        "from openai import OpenAI\n",
        "from google.colab import userdata\n",
        "\n",
        "# Set the API key from Colab secrets\n",
        "api_key = userdata.get('OPENAI_API_KEY')\n",
        "client = OpenAI(api_key=api_key)\n",
        "\n",
        "\n",
        "def chatbot_response(user_message: str, previous_response=None):\n",
        "    result = client.responses.create(\n",
        "        model=\"gpt-5-mini\", input=user_message, previous_response_id=previous_response\n",
        "    )\n",
        "    return result\n",
        "\n",
        "if __name__ == \"__main__\":\n",
        "    previous_response_id = None  # Initialize previous_response_id\n",
        "    while True:\n",
        "        user_message = input(\"메세지: \")\n",
        "        if user_message.lower() == \"exit\":\n",
        "            print(\"대화를 종료합니다.\")\n",
        "            break\n",
        "\n",
        "        result = chatbot_response(user_message, previous_response_id)\n",
        "\n",
        "        previous_response_id = result.id\n",
        "        print(result.output_text)"
      ]
    }
  ]
}