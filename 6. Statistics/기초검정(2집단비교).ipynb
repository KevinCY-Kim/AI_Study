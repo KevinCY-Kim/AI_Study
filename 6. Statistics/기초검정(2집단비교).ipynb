{
  "nbformat": 4,
  "nbformat_minor": 0,
  "metadata": {
    "colab": {
      "provenance": [],
      "authorship_tag": "ABX9TyOmucCl5IOV0ntLbwztP8gJ",
      "include_colab_link": true
    },
    "kernelspec": {
      "name": "python3",
      "display_name": "Python 3"
    },
    "language_info": {
      "name": "python"
    }
  },
  "cells": [
    {
      "cell_type": "markdown",
      "metadata": {
        "id": "view-in-github",
        "colab_type": "text"
      },
      "source": [
        "<a href=\"https://colab.research.google.com/github/KevinCY-Kim/Deeplearning/blob/main/%EA%B8%B0%EC%B4%88%EA%B2%80%EC%A0%95(2%EC%A7%91%EB%8B%A8%EB%B9%84%EA%B5%90).ipynb\" target=\"_parent\"><img src=\"https://colab.research.google.com/assets/colab-badge.svg\" alt=\"Open In Colab\"/></a>"
      ]
    },
    {
      "cell_type": "markdown",
      "source": [],
      "metadata": {
        "id": "5el2DZjXHynF"
      }
    },
    {
      "cell_type": "markdown",
      "source": [
        "# Part1. 기초 검정 (2집단 비교 중심)\n",
        "\n",
        "# 1. t-검정 (t-test)\n",
        "\n",
        "* 목적: 두 집단 평균 차이 검정\n",
        "* 종류\n",
        "    \n",
        "    * 독립표본 t-test\n",
        "    * 대응표본 t-test (paired)\n",
        "    * Welch t-test (등분산 가정 불필요)\n",
        "* 가정: 독립성, 정규성, 등분산성(기본 t)\n",
        "* 효과크기: Cohen’s d (0.2/0.5/0.8)\n",
        "\n",
        " 📌 “p<0.05 → 귀무가설 기각, 평균이 유의하게 다르다”\n",
        "\n",
        " 📌 정규성·등분산 가정 → 불만족 시 Welch/비모수로 대체\n"
      ],
      "metadata": {
        "id": "V1qlZX5KHzzs"
      }
    },
    {
      "cell_type": "markdown",
      "source": [
        "# 2. 카이제곱 검정 (χ²-test)\n",
        "\n",
        "* 목적: 범주형 변수 간 독립성 or 분포 적합도 검정\n",
        "* 가정: 기대도수 ≥ 5 (80% 이상), 아니면 Fisher Exact Test\n",
        "* 효과크기: φ (2×2), Cramér’s V (r×c)\n",
        "\n",
        "📌 기대도수 확인 → 카이제곱 기본문제 단골\n",
        "\n",
        "📌 효과크기 보고(Cramér’s V)\n",
        "\n"
      ],
      "metadata": {
        "id": "oEakuPi0IFBX"
      }
    },
    {
      "cell_type": "markdown",
      "source": [
        "# Part 2. 분산 분석 (집단 ≥ 3)\n",
        "# 3. F-검정 (F-test)\n",
        "\n",
        "* 정의: 분산비 검정\n",
        "* 활용:\n",
        "    * (1) 두 집단 분산 동일성 확인\n",
        "    * (2) ANOVA·회귀모형 전체 유의성 검정\n",
        "\n",
        "📌 ANOVA는 F-검정 기반이다 → 반드시 기억\n"
      ],
      "metadata": {
        "id": "JtpVgWiKI0se"
      }
    },
    {
      "cell_type": "markdown",
      "source": [
        "# 4. ANOVA (분산분석)\n",
        "\n",
        "* 목적: 3개 이상 집단 평균 비교\n",
        "* 가정: 독립성, 정규성, 등분산성\n",
        "* 사후검정(Post-hoc)\n",
        "    \n",
        "    * 등분산 만족 → Tukey HSD, Dunnett(대조군 비교)\n",
        "    * 등분산 불만족/표본 불균형 → Games–Howell\n",
        "    * 단순 보정 → Bonferroni/Holm\n",
        "\n",
        "📌 전체 F 유의해야 사후검정 진행\n",
        "\n",
        "📌사후검정 선택 기준\n"
      ],
      "metadata": {
        "id": "45uMoTOPJX0F"
      }
    },
    {
      "cell_type": "markdown",
      "source": [
        "# 5. ANCOVA (공분산분석)\n",
        "\n",
        "* 목적: 집단 간 평균 비교 시 공변량 통제\n",
        "* 가정: 회귀기울기 동질성 (집단×공변량 상호작용 없음)\n",
        "* 출력: 조정평균(adjusted mean)\n",
        "\n",
        "📌 ANCOVA = ANOVA + 공변량 조정\n",
        "\n",
        "📌 공변량을 통제한 후에도 집단 간 차이가 유의한가?\n"
      ],
      "metadata": {
        "id": "S0NaPxzdJkYu"
      }
    },
    {
      "cell_type": "markdown",
      "source": [
        "# Part 3. 비모수 대안 (가정 위반 대비)\n",
        "\n",
        "# 6. Mann–Whitney U Test (Wilcoxon Rank-Sum)\n",
        "\n",
        "* 대상: 두 독립집단\n",
        "* 대안: 독립표본 t-test\n",
        "* 해석: 한 집단이 다른 집단보다 값이 클 확률\n",
        "\n",
        "# 7. Wilcoxon Signed-Rank Test\n",
        "\n",
        "* 대상: 두 대응집단(짝 데이터)\n",
        "* 대안: 대응표본 t-test\n",
        "* 가정: 차이분포가 대칭적\n",
        "\n",
        "# 8. 확장형 비모수\n",
        "\n",
        "* Kruskal–Wallis: 일원 ANOVA 대안\n",
        "* Friedman: 반복측정 ANOVA 대안\n",
        "\n",
        "📌 정규성·등분산성 위반 → 비모수 검정”\n",
        "\n",
        "📌 각 검정이 t-test/ANOVA의 대안임을 연결\n",
        "\n"
      ],
      "metadata": {
        "id": "9JEKhUeSJulI"
      }
    },
    {
      "cell_type": "markdown",
      "source": [
        "# Part 4. 카운트 자료 분석\n",
        "\n",
        "# 9. 포아송 분석 (Poisson Regression)\n",
        "\n",
        "* 목적: 사건 발생 횟수(count data) 모델링\n",
        "* 링크함수: log\n",
        "* 해석: exp(β)=IRR(발생률비)\n",
        "* 문제점: 과산포(overdispersion) → 음이항 회귀(Negative Binomial)\n",
        "* 오프셋(offset): 관측 시간·노출량 보정\n",
        "\n",
        "📌 count data → 포아송/음이항\n",
        "\n",
        "📌 IRR 해석 “exp(β)=1.3 → 30% 증가”\n"
      ],
      "metadata": {
        "id": "fe_eQ1v2KLeQ"
      }
    },
    {
      "cell_type": "markdown",
      "source": [
        "# PART 5. 공통 심화 주제\n",
        "\n",
        "# 10. 검정력 & 표본수 (Power Analysis)\n",
        "\n",
        "* 정의: 1−β (참 효과 있을 때 발견할 확률)\n",
        "* 영향 요인: 효과크기, 표본수, α, 변동성\n",
        "* 목표: 보통 0.8 이상\n",
        "\n",
        "# 11. 다중비교 보정\n",
        "\n",
        "* FWER 제어: Bonferroni, Holm, Tukey\n",
        "* FDR 제어: Benjamini–Hochberg\n",
        "    \n",
        "\n",
        "# 질문:왜 보정하나\n",
        "\n",
        "* 가설이 m개일 때 그대로 α=0.05를 쓰면, “우연히라도 유의”가 하나쯤 나올 확률이 급증\n",
        "* FWER(Family-Wise Error Rate): 한 번이라도(≥1개) 틀리게 기각할 확률 P(V≥1) ≤ α 로 제어\n",
        "* FDR(False Discovery Rate): 기각한 것들 중 거짓 기각의 비율의 기댓값 E(V/R) ≤ q 로 제어\n",
        "\n"
      ],
      "metadata": {
        "id": "-y7ZMeDEKQBr"
      }
    }
  ]
}