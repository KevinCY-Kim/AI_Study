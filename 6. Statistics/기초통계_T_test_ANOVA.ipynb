{
  "nbformat": 4,
  "nbformat_minor": 0,
  "metadata": {
    "colab": {
      "provenance": [],
      "authorship_tag": "ABX9TyPwvoySUT0LM9oaxu2Xhreu",
      "include_colab_link": true
    },
    "kernelspec": {
      "name": "python3",
      "display_name": "Python 3"
    },
    "language_info": {
      "name": "python"
    }
  },
  "cells": [
    {
      "cell_type": "markdown",
      "metadata": {
        "id": "view-in-github",
        "colab_type": "text"
      },
      "source": [
        "<a href=\"https://colab.research.google.com/github/KevinCY-Kim/Deeplearning/blob/main/%EA%B8%B0%EC%B4%88%ED%86%B5%EA%B3%84_T_test_ANOVA.ipynb\" target=\"_parent\"><img src=\"https://colab.research.google.com/assets/colab-badge.svg\" alt=\"Open In Colab\"/></a>"
      ]
    },
    {
      "cell_type": "markdown",
      "source": [
        "1. T-test (평균 차이 비교)"
      ],
      "metadata": {
        "id": "xfH6IQXdaN2O"
      }
    },
    {
      "cell_type": "code",
      "execution_count": 5,
      "metadata": {
        "colab": {
          "base_uri": "https://localhost:8080/"
        },
        "id": "CduYhpiFZ9xt",
        "outputId": "c3221d58-7a19-4930-a53e-19a006d7e8b3"
      },
      "outputs": [
        {
          "output_type": "stream",
          "name": "stdout",
          "text": [
            "t-통계량: 0.5733821790810081\n",
            "p-value: 0.5872172626238632\n"
          ]
        }
      ],
      "source": [
        "# 단일표본 T-test\n",
        "import numpy as np\n",
        "from scipy import stats\n",
        "\n",
        "# 예시: 우리 반 키 평균이 170cm인지 검정\n",
        "data = [172, 168, 171, 169, 173, 174, 167]\n",
        "t_stat, p_val = stats.ttest_1samp(data, popmean=170)\n",
        "\n",
        "print(\"t-통계량:\", t_stat)\n",
        "print(\"p-value:\", p_val)\n",
        "\n",
        "# 해석\n",
        "# 귀무가설(H₀): 평균 = 170\n",
        "# p-value < 0.05 → 평균이 170과 유의하게 다르다."
      ]
    },
    {
      "cell_type": "code",
      "source": [
        "# 독립표본 T-test\n",
        "# 남학생, 여학생 키 비교\n",
        "group1 = [172, 174, 168, 170, 169]  # 남\n",
        "group2 = [162, 164, 160, 163, 161]  # 여\n",
        "\n",
        "t_stat, p_val = stats.ttest_ind(group1, group2, equal_var=True)\n",
        "\n",
        "print(\"t-통계량:\", t_stat)\n",
        "print(\"p-value:\", p_val)\n",
        "# 해석\n",
        "# 귀무가설(H₀): 두 집단 평균 차이 없음\n",
        "# p-value < 0.05 → 두 집단 평균이 유의하게 다르다."
      ],
      "metadata": {
        "colab": {
          "base_uri": "https://localhost:8080/"
        },
        "id": "v-JrKfz0aZ3n",
        "outputId": "652c01f4-9f2e-4be4-ba1a-22ebc4a6dbf1"
      },
      "execution_count": 4,
      "outputs": [
        {
          "output_type": "stream",
          "name": "stdout",
          "text": [
            "t-통계량: 6.6748945210744575\n",
            "p-value: 0.00015671599846307254\n"
          ]
        }
      ]
    },
    {
      "cell_type": "code",
      "source": [
        "# 대응표본 T-test\n",
        "# 운동 전/후 체중 비교\n",
        "before = [70, 68, 72, 71, 69]\n",
        "after  = [68, 67, 70, 69, 68]\n",
        "\n",
        "t_stat, p_val = stats.ttest_rel(before, after)\n",
        "\n",
        "print(\"t-통계량:\", t_stat)\n",
        "print(\"p-value:\", p_val)\n",
        "# 해석\n",
        "# 귀무가설(H₀): 운동 전후 평균 차이 없음\n",
        "# p-value < 0.05 → 운동이 효과 있음."
      ],
      "metadata": {
        "colab": {
          "base_uri": "https://localhost:8080/"
        },
        "id": "4UODw-rmbOow",
        "outputId": "ea5358e3-05ab-4b9f-97ee-8b818d36f8b5"
      },
      "execution_count": 7,
      "outputs": [
        {
          "output_type": "stream",
          "name": "stdout",
          "text": [
            "t-통계량: 6.531972647421809\n",
            "p-value: 0.0028378459267344464\n"
          ]
        }
      ]
    },
    {
      "cell_type": "markdown",
      "source": [
        "2. ANOVA (집단이 3개 이상일 때 평균 차이 검정)"
      ],
      "metadata": {
        "id": "QaSFrAfIbm82"
      }
    },
    {
      "cell_type": "code",
      "source": [
        "# 일원분산분석 (One-way ANOVA)\n",
        "# 세 집단 성적 비교\n",
        "group1 = [88, 92, 85, 91, 87]  # A반\n",
        "group2 = [78, 74, 82, 80, 77]  # B반\n",
        "group3 = [94, 90, 96, 92, 95]  # C반\n",
        "\n",
        "f_stat, p_val = stats.f_oneway(group1, group2, group3)\n",
        "\n",
        "print(\"F-통계량:\", f_stat)\n",
        "print(\"p-value:\", p_val)\n",
        "# 해석\n",
        "# 귀무가설(H₀): 세 집단 평균이 모두 같다\n",
        "# p-value < 0.05 → 적어도 한 집단 평균이 다르다.\n",
        "# (단, 어디가 다른지는 추가로 사후검정(Post-hoc test, Tukey HSD 등) 필요"
      ],
      "metadata": {
        "colab": {
          "base_uri": "https://localhost:8080/"
        },
        "id": "TGI70JQ_bmAo",
        "outputId": "bcd41251-4e5c-4912-8b76-b038f58c9202"
      },
      "execution_count": 9,
      "outputs": [
        {
          "output_type": "stream",
          "name": "stdout",
          "text": [
            "F-통계량: 38.866952789699596\n",
            "p-value: 5.719368167650693e-06\n"
          ]
        }
      ]
    },
    {
      "cell_type": "code",
      "source": [
        "# 시각화로 분포 확인\n",
        "import matplotlib.pyplot as plt\n",
        "\n",
        "plt.boxplot([group1, group2, group3], labels=[\"A반\", \"B반\", \"C반\"])\n",
        "plt.title(\"세 집단 성적 분포 비교 (ANOVA)\")\n",
        "plt.show()"
      ],
      "metadata": {
        "colab": {
          "base_uri": "https://localhost:8080/",
          "height": 854
        },
        "id": "8ZMxnKONb8Hh",
        "outputId": "864d083b-6c71-4128-8cb6-e4cd38e89fb3"
      },
      "execution_count": 10,
      "outputs": [
        {
          "output_type": "stream",
          "name": "stderr",
          "text": [
            "/tmp/ipython-input-4286688763.py:4: MatplotlibDeprecationWarning: The 'labels' parameter of boxplot() has been renamed 'tick_labels' since Matplotlib 3.9; support for the old name will be dropped in 3.11.\n",
            "  plt.boxplot([group1, group2, group3], labels=[\"A반\", \"B반\", \"C반\"])\n",
            "/usr/local/lib/python3.12/dist-packages/IPython/core/pylabtools.py:151: UserWarning: Glyph 49464 (\\N{HANGUL SYLLABLE SE}) missing from font(s) DejaVu Sans.\n",
            "  fig.canvas.print_figure(bytes_io, **kw)\n",
            "/usr/local/lib/python3.12/dist-packages/IPython/core/pylabtools.py:151: UserWarning: Glyph 51665 (\\N{HANGUL SYLLABLE JIB}) missing from font(s) DejaVu Sans.\n",
            "  fig.canvas.print_figure(bytes_io, **kw)\n",
            "/usr/local/lib/python3.12/dist-packages/IPython/core/pylabtools.py:151: UserWarning: Glyph 45800 (\\N{HANGUL SYLLABLE DAN}) missing from font(s) DejaVu Sans.\n",
            "  fig.canvas.print_figure(bytes_io, **kw)\n",
            "/usr/local/lib/python3.12/dist-packages/IPython/core/pylabtools.py:151: UserWarning: Glyph 49457 (\\N{HANGUL SYLLABLE SEONG}) missing from font(s) DejaVu Sans.\n",
            "  fig.canvas.print_figure(bytes_io, **kw)\n",
            "/usr/local/lib/python3.12/dist-packages/IPython/core/pylabtools.py:151: UserWarning: Glyph 51201 (\\N{HANGUL SYLLABLE JEOG}) missing from font(s) DejaVu Sans.\n",
            "  fig.canvas.print_figure(bytes_io, **kw)\n",
            "/usr/local/lib/python3.12/dist-packages/IPython/core/pylabtools.py:151: UserWarning: Glyph 48516 (\\N{HANGUL SYLLABLE BUN}) missing from font(s) DejaVu Sans.\n",
            "  fig.canvas.print_figure(bytes_io, **kw)\n",
            "/usr/local/lib/python3.12/dist-packages/IPython/core/pylabtools.py:151: UserWarning: Glyph 54252 (\\N{HANGUL SYLLABLE PO}) missing from font(s) DejaVu Sans.\n",
            "  fig.canvas.print_figure(bytes_io, **kw)\n",
            "/usr/local/lib/python3.12/dist-packages/IPython/core/pylabtools.py:151: UserWarning: Glyph 48708 (\\N{HANGUL SYLLABLE BI}) missing from font(s) DejaVu Sans.\n",
            "  fig.canvas.print_figure(bytes_io, **kw)\n",
            "/usr/local/lib/python3.12/dist-packages/IPython/core/pylabtools.py:151: UserWarning: Glyph 44368 (\\N{HANGUL SYLLABLE GYO}) missing from font(s) DejaVu Sans.\n",
            "  fig.canvas.print_figure(bytes_io, **kw)\n",
            "/usr/local/lib/python3.12/dist-packages/IPython/core/pylabtools.py:151: UserWarning: Glyph 48152 (\\N{HANGUL SYLLABLE BAN}) missing from font(s) DejaVu Sans.\n",
            "  fig.canvas.print_figure(bytes_io, **kw)\n"
          ]
        },
        {
          "output_type": "display_data",
          "data": {
            "text/plain": [
              "<Figure size 640x480 with 1 Axes>"
            ],
            "image/png": "[encoded data removed]"
          },
          "metadata": {}
        }
      ]
    },
    {
      "cell_type": "markdown",
      "source": [
        "T-test → 두 집단 평균 비교 (단일/독립/대응)\n",
        "\n",
        "ANOVA → 세 집단 이상 평균 비교, F-통계량 사용\n",
        "\n",
        "p-value < 0.05 → 유의한 차이 있음\n",
        "\n",
        "ANOVA는 “어디가 다른지”까지는 안 알려줌 → 사후검정 필요"
      ],
      "metadata": {
        "id": "mwGi0kJncEys"
      }
    }
  ]
}